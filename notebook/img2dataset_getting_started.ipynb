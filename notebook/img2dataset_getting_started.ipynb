{
  "nbformat": 4,
  "nbformat_minor": 2,
  "metadata": {
    "orig_nbformat": 2,
    "colab": {
      "name": "example.ipynb",
      "provenance": []
    },
    "language_info": {
      "name": "python"
    },
    "kernelspec": {
      "name": "python3",
      "display_name": "Python 3"
    }
  },
  "cells": [
    {
      "cell_type": "code",
      "execution_count": 1,
      "source": [
        "!pip install img2dataset"
      ],
      "outputs": [
        {
          "output_type": "stream",
          "name": "stdout",
          "text": [
            "Collecting img2dataset\n",
            "  Downloading img2dataset-1.0.1-py3-none-any.whl (5.5 kB)\n",
            "Collecting fire\n",
            "  Downloading fire-0.4.0.tar.gz (87 kB)\n",
            "\u001b[K     |████████████████████████████████| 87 kB 2.7 MB/s \n",
            "\u001b[?25hRequirement already satisfied: opencv-python in /usr/local/lib/python3.7/dist-packages (from img2dataset) (4.1.2.30)\n",
            "Requirement already satisfied: tqdm in /usr/local/lib/python3.7/dist-packages (from img2dataset) (4.41.1)\n",
            "Requirement already satisfied: six in /usr/local/lib/python3.7/dist-packages (from fire->img2dataset) (1.15.0)\n",
            "Requirement already satisfied: termcolor in /usr/local/lib/python3.7/dist-packages (from fire->img2dataset) (1.1.0)\n",
            "Requirement already satisfied: numpy>=1.14.5 in /usr/local/lib/python3.7/dist-packages (from opencv-python->img2dataset) (1.19.5)\n",
            "Building wheels for collected packages: fire\n",
            "  Building wheel for fire (setup.py) ... \u001b[?25l\u001b[?25hdone\n",
            "  Created wheel for fire: filename=fire-0.4.0-py2.py3-none-any.whl size=115943 sha256=6b2b37dcbb8fc1323019bd7e6c3f39f028c3713b7e66e643396b83e86c942a36\n",
            "  Stored in directory: /root/.cache/pip/wheels/8a/67/fb/2e8a12fa16661b9d5af1f654bd199366799740a85c64981226\n",
            "Successfully built fire\n",
            "Installing collected packages: fire, img2dataset\n",
            "Successfully installed fire-0.4.0 img2dataset-1.0.1\n"
          ]
        }
      ],
      "metadata": {
        "id": "Hdc8jUx3HnD0",
        "outputId": "a1ec3a08-4d5c-4351-a7f1-7cc2d8027e79",
        "colab": {
          "base_uri": "https://localhost:8080/"
        }
      }
    },
    {
      "cell_type": "code",
      "execution_count": 2,
      "source": [
        "!echo 'https://placekitten.com/200/305' >> myimglist.txt\n",
        "!echo 'https://placekitten.com/200/304' >> myimglist.txt\n",
        "!echo 'https://placekitten.com/200/303' >> myimglist.txt"
      ],
      "outputs": [],
      "metadata": {
        "id": "fM0fPQDaHnD1"
      }
    },
    {
      "cell_type": "code",
      "execution_count": 3,
      "source": [
        "!img2dataset --url_list=myimglist.txt --output_folder=output_folder --thread_count=64 --image_size=256"
      ],
      "outputs": [
        {
          "output_type": "stream",
          "name": "stdout",
          "text": [
            "3it [00:00, 13203.48it/s]\n",
            "100% 3/3 [00:00<00:00, 15.11it/s]\n"
          ]
        }
      ],
      "metadata": {
        "id": "wYy7ZwGGHnD1",
        "outputId": "14e69d1c-c197-4d00-953d-e67b31ec1bdf",
        "colab": {
          "base_uri": "https://localhost:8080/"
        }
      }
    },
    {
      "cell_type": "code",
      "execution_count": 4,
      "source": [
        "!ls -R output_folder"
      ],
      "outputs": [
        {
          "output_type": "stream",
          "name": "stdout",
          "text": [
            "output_folder:\n",
            "0\n",
            "\n",
            "output_folder/0:\n",
            "0.jpg  1.jpg  2.jpg\n"
          ]
        }
      ],
      "metadata": {
        "id": "bAn-WRd2HnD2",
        "outputId": "345ef908-143e-4ea8-e692-ca39c2eaa741",
        "colab": {
          "base_uri": "https://localhost:8080/"
        }
      }
    },
    {
      "cell_type": "code",
      "execution_count": 5,
      "source": [
        "from IPython.display import Image\n",
        "Image(filename='output_folder/00000/000000000.jpg')"
      ],
      "outputs": [
        {
          "output_type": "execute_result",
          "data": {
            "image/jpeg": "[encoded data removed]",
            "text/plain": [
              "<IPython.core.display.Image object>"
            ]
          },
          "metadata": {
            "tags": []
          },
          "execution_count": 5
        }
      ],
      "metadata": {
        "id": "ThRXLLTgHnD2",
        "outputId": "12370fb0-61d0-4bc8-9f87-2fc8d9779394",
        "colab": {
          "base_uri": "https://localhost:8080/",
          "height": 273
        }
      }
    }
  ]
}